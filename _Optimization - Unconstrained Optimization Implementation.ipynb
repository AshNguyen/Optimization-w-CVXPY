{
 "cells": [
  {
   "cell_type": "code",
   "execution_count": 2,
   "metadata": {
    "collapsed": false
   },
   "outputs": [
    {
     "data": {
      "image/png": "[encoded data removed]",
      "text/plain": [
       "<matplotlib.figure.Figure at 0x10c45b588>"
      ]
     },
     "metadata": {},
     "output_type": "display_data"
    },
    {
     "data": {
      "text/plain": [
       "array([[  9.,  10.,  -1.],\n",
       "       [  8.,   7.,  -1.],\n",
       "       [  8.,   8.,  -1.],\n",
       "       [ 11.,   9.,  -1.],\n",
       "       [ 12.,  10.,  -1.],\n",
       "       [  9.,  10.,  -1.],\n",
       "       [ 15.,  14.,  -1.],\n",
       "       [ 20.,  22.,  -1.],\n",
       "       [ 11.,  10.,  -1.],\n",
       "       [  9.,  12.,  -1.],\n",
       "       [ 10.,  19.,  -1.],\n",
       "       [ 15.,  18.,  -1.],\n",
       "       [ 12.,  16.,  -1.],\n",
       "       [  8.,  24.,  -1.],\n",
       "       [ 16.,  18.,  -1.],\n",
       "       [ 14.,  20.,  -1.],\n",
       "       [ 16.,  12.,  -1.],\n",
       "       [ 14.,  16.,  -1.],\n",
       "       [ 14.,  15.,  -1.],\n",
       "       [ 17.,  22.,  -1.],\n",
       "       [ 17.,   6.,  -1.],\n",
       "       [ -1., -28.,   1.],\n",
       "       [  0.,  -5.,   1.],\n",
       "       [ -5.,  -8.,   1.],\n",
       "       [-10., -40.,   1.],\n",
       "       [ -5., -25.,   1.],\n",
       "       [ -5.,  -1.,   1.],\n",
       "       [  1., -20.,   1.],\n",
       "       [-10.,  -5.,   1.],\n",
       "       [-15., -20.,   1.],\n",
       "       [-10., -20.,   1.],\n",
       "       [ -8.,  -5.,   1.],\n",
       "       [ -8., -35.,   1.],\n",
       "       [ -5.,  -7.,   1.],\n",
       "       [ -6.,  -8.,   1.],\n",
       "       [-13., -38.,   1.],\n",
       "       [-15.,  -3.,   1.],\n",
       "       [ -5., -18.,   1.],\n",
       "       [ -3., -18.,   1.],\n",
       "       [ -3.,  -2.,   1.],\n",
       "       [-20., -25.,   1.],\n",
       "       [ -8., -25.,   1.],\n",
       "       [ -6.,  -7.,   1.],\n",
       "       [ -6., -19.,   1.],\n",
       "       [ -5.,  -5.,   1.],\n",
       "       [ -5., -10.,   1.],\n",
       "       [ -4.,  -9.,   1.],\n",
       "       [  0.,   0.,   1.],\n",
       "       [ -5.,   1.,   1.],\n",
       "       [ -1.,  -8.,   1.]])"
      ]
     },
     "execution_count": 2,
     "metadata": {},
     "output_type": "execute_result"
    }
   ],
   "source": [
    "import csv\n",
    "import matplotlib.pyplot as plt\n",
    "import numpy as np\n",
    "\n",
    "#Question 1: Graphing Dataset \n",
    "\n",
    "#open the given csv file \n",
    "with open('/Users/ash/Downloads/cs111.csv', 'r') as f:\n",
    "    reader = csv.reader(f)\n",
    "    raw = list(reader)\n",
    "\n",
    "#Cleaning the csv file\n",
    "del(raw[0])\n",
    "data=np.array(raw)\n",
    "data=data.astype(np.float)\n",
    "data[0:21,2]=-1\n",
    "\n",
    "#Plotting the csv file\n",
    "plt.scatter(data[0:21,0],data[0:21,1],c='r',label=\"0\")\n",
    "plt.scatter(data[22:49,0],data[22:49,1],c='b',label=\"1\")\n",
    "plt.legend(loc='upper left')\n",
    "plt.show()\n",
    "\n",
    "data"
   ]
  },
  {
   "cell_type": "code",
   "execution_count": 10,
   "metadata": {
    "collapsed": false
   },
   "outputs": [
    {
     "ename": "SyntaxError",
     "evalue": "'return' outside function (<ipython-input-10-a199ed735bbc>, line 2)",
     "output_type": "error",
     "traceback": [
      "\u001b[0;36m  File \u001b[0;32m\"<ipython-input-10-a199ed735bbc>\"\u001b[0;36m, line \u001b[0;32m2\u001b[0m\n\u001b[0;31m    return(i)\u001b[0m\n\u001b[0m    ^\u001b[0m\n\u001b[0;31mSyntaxError\u001b[0m\u001b[0;31m:\u001b[0m 'return' outside function\n"
     ]
    }
   ],
   "source": [
    "for i in range(10):\n",
    "    return(i)"
   ]
  },
  {
   "cell_type": "code",
   "execution_count": 5,
   "metadata": {
    "collapsed": false
   },
   "outputs": [
    {
     "name": "stdout",
     "output_type": "stream",
     "text": [
      "(m1 m2 b)= -0.0547142762811 -0.437714210249 0.0547142762811\n",
      "Iteration number: 3000\n"
     ]
    }
   ],
   "source": [
    "#Question 2 & 3: Implementing Gradient Descent For Three Variables With The Given Error Function \n",
    "\n",
    "#Implementing error function (average of loss function in the whole dataset)\n",
    "def errorf(m1,m2,b): \n",
    "    for i in range(50):\n",
    "        result=0\n",
    "        x1=data[i,0]\n",
    "        x2=data[i,1]\n",
    "        f=m1*x1+m2*x2+b\n",
    "        y=data[i,2]\n",
    "        result=result+np.log(1+np.exp(-y*f))\n",
    "    return(result/50)\n",
    "\n",
    "#Implementing the partial derivative of the error function with respect to coefficient m1\n",
    "def pdm1(m1,m2,b): \n",
    "    for i in range(50):\n",
    "        result=0\n",
    "        x1=data[i,0]\n",
    "        x2=data[i,1]\n",
    "        f=m1*x1+m2*x2+b\n",
    "        y=data[i,2] \n",
    "        result=result+((1+np.exp(-y*f))**(-1))*np.exp(-y*f)*(-y)*x1\n",
    "    return(result/50)\n",
    "\n",
    "#Implementing the partial derivative of the error function with respect to coefficient m2\n",
    "def pdm2(m1,m2,b): \n",
    "    for i in range(50):\n",
    "        result=0\n",
    "        x1=data[i,0]\n",
    "        x2=data[i,1]\n",
    "        f=m1*x1+m2*x2+b\n",
    "        y=data[i,2]\n",
    "        result=result+((1+np.exp(-y*f))**(-1))*np.exp(-y*f)*(-y)*x2\n",
    "    return(result/50)\n",
    "\n",
    "#Implementing the partial derivative of the error function with respect to coefficient b\n",
    "def pdb(m1,m2,b): \n",
    "    for i in range(50):\n",
    "        result=0\n",
    "        x1=data[i,0]\n",
    "        x2=data[i,1]\n",
    "        f=m1*x1+m2*x2+b\n",
    "        y=data[i,2] \n",
    "        result=result+((1+np.exp(-y*f)))**(-1)*np.exp(-y*f)*(-y)\n",
    "    return(result/50)\n",
    "\n",
    "#Initiating the initial values of each coefficient. The choice here is arbitrary because if gradient descent is\n",
    "#implemented correctly and the error function has just 1 global minimum, these choices do not matter. The step\n",
    "#is chosen so that it's not too big (that we overshoot) and not too small (to be too computationally costly)\n",
    "startm1=0\n",
    "startm2=0\n",
    "startb=0\n",
    "step=0.01\n",
    "\n",
    "#Calculate the value of the error function at the beginning\n",
    "errorvalue=errorf(startm1,startm2,startb)\n",
    "\n",
    "#A dummy variable to count the number of iterations\n",
    "count=0\n",
    "\n",
    "#A dummy list to keep track of the error value\n",
    "errorlist=[]\n",
    "\n",
    "#Implementing gradient descent for 3 variables \n",
    "for i in range(3000): \n",
    "    currm1=startm1-pdm1(startm1,startm2,startb)*step \n",
    "    currm2=startm2-pdm2(startm1,startm2,startb)*step \n",
    "    currb=startb-pdb(startm1,startm2,startb)*step\n",
    "    errorvalue=errorf(startm1,startm2,startb)\n",
    "    errorlist.append(errorvalue)\n",
    "    startm1=currm1\n",
    "    startm2=currm2\n",
    "    startb=currb\n",
    "    count+=1\n",
    "\n",
    "print(\"(m1 m2 b)=\",currm1,currm2,currb)\n",
    "print(\"Iteration number:\",count)"
   ]
  },
  {
   "cell_type": "code",
   "execution_count": 300,
   "metadata": {
    "collapsed": false
   },
   "outputs": [
    {
     "data": {
      "image/png": "[encoded data removed]",
      "text/plain": [
       "<matplotlib.figure.Figure at 0x1169af630>"
      ]
     },
     "metadata": {},
     "output_type": "display_data"
    }
   ],
   "source": [
    "#Plotting the error value over number of iteration: \n",
    "x=range(count)\n",
    "plt.plot(x,errorlist)\n",
    "plt.show()\n",
    "\n",
    "#As we can see, the error decrease over time. The less the error is, the less it decrease (because it gets closer and \n",
    "#closer to the minimum). If we choose a bigger step, it would probably decrease faster but then we will risk overshoot"
   ]
  },
  {
   "cell_type": "code",
   "execution_count": 4,
   "metadata": {
    "collapsed": false
   },
   "outputs": [
    {
     "data": {
      "image/png": "[encoded data removed]",
      "text/plain": [
       "<matplotlib.figure.Figure at 0x1039f7f98>"
      ]
     },
     "metadata": {},
     "output_type": "display_data"
    }
   ],
   "source": [
    "#Plotting the classifier\n",
    "plt.scatter(data[0:21,0],data[0:21,1],c='r',label=\"0\")\n",
    "plt.scatter(data[22:49,0],data[22:49,1],c='b',label=\"1\")\n",
    "x=range(-25,25 )\n",
    "abline_values = [-currm1/currm2 * i - currb/currm2 for i in x]\n",
    "plt.plot(x, abline_values)\n",
    "plt.legend(loc='upper left')\n",
    "plt.show()"
   ]
  },
  {
   "cell_type": "markdown",
   "metadata": {},
   "source": [
    "Question 4: Interpretation Of The Loss Function\n",
    "\n",
    "The loss function is a clever use of mathematical function to implement gradient descent when we need to make a classifier. If the classification is correct then the function f(x_i)=m_1*x_1+m_2*x_2+b will always be of the same sign as y_i (either 1 or -1) or (-y_i*f(x_i)) will always be negative, thus the exponent e^(-y_i*f(x_i)) will be small and therefore the loss function will be small. If the classification is incorrect then f(x_i) and y_i will be of opposite signs, therefore the exponent e^(-y_i*f(x_i)) will be large and the loss function will also be large. Because of this implementation of loss function, we can take the gradient of it and nudge the values of the coefficients to get the error function smaller and smaller every step (therefore making the classifier more and more correct). \n",
    "\n",
    "Question 5: Dataset that cannot be effectively classified using the implemented algorithm\n",
    "\n",
    "There are two types of data that won't be effectively classified using this algorithm: \n",
    "    - Data in which a single variable is described with more than 2 coordinates, that is, data that dependent on more than 2 variables. For example, data that depends on 3 variables like x_1, x_2, x_3 will need a classifier that implements gradient descent for 4 variables. \n",
    "    - Data in which there are more than 2 \"bundles\", that is, data that is classifed in the learning dataset with more than 2 types. For example, data that is classified into 3 types \"a\", \"b\", \"c\" in the learning set will not be effectively classified by this algorithm (since we will need more than 1 line to separate the plane into 3 regions) \n",
    "    \n",
    "Question 6: SVM For Spams Classifier\n",
    "\n",
    "Maybe we can use this type of classifier to look for spams by assigning different variables that is typical for spams: \n",
    "    - Frequency of certain words: there are some words that spams usually have, like \"good deal\", \"free sample\" or \"click on this link\",etc. If we have a set of classfied spam, we can roughly estimate the average frequency of these indicating words and make it a variable in our classfier\n",
    "    - Misspelling: important emails tend not to be misspelled, so if the number of misspelled words get over a certain limit we can classify an email as a spam. Again, we can also make this a variable for our classifier \n",
    "    - Sender: we can check the sender email to see if it's in our contact list, if it's not then it's likely to be spam. However, sometimes new people send us email too, so we can put weighting on this variable to make sure we don't consider it too important in our classifying process. \n",
    "\n",
    "All of the above criterias can be implemented as variables (just like x_1 and x_2 in our original algorithm), and then use the same process of gradient descent to find a hyperplane to separate the spam and the non-spam. We can do this because we only have two types of email: either spam or not-spam, so we won't have to use more than 1 hyperplane. We can also use this along with a Bayes theorem algorithm that returns the possibility of one email is a spam based on previous learnt data. \n"
   ]
  }
 ],
 "metadata": {
  "kernelspec": {
   "display_name": "Python 3",
   "language": "python",
   "name": "python3"
  },
  "language_info": {
   "codemirror_mode": {
    "name": "ipython",
    "version": 3
   },
   "file_extension": ".py",
   "mimetype": "text/x-python",
   "name": "python",
   "nbconvert_exporter": "python",
   "pygments_lexer": "ipython3",
   "version": "3.6.0"
  }
 },
 "nbformat": 4,
 "nbformat_minor": 2
}
